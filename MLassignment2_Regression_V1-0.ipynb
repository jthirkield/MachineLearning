{
 "cells": [
  {
   "cell_type": "code",
   "execution_count": 1,
   "metadata": {
    "collapsed": true
   },
   "outputs": [],
   "source": [
    "import numpy as np\n",
    "import pandas as pd\n",
    "import matplotlib.pyplot as plt\n",
    "%matplotlib inline"
   ]
  },
  {
   "cell_type": "code",
   "execution_count": 2,
   "metadata": {
    "collapsed": false
   },
   "outputs": [],
   "source": [
    "sal = pd.read_csv('salaries-merged2.csv')"
   ]
  },
  {
   "cell_type": "code",
   "execution_count": 3,
   "metadata": {
    "collapsed": false
   },
   "outputs": [
    {
     "data": {
      "text/html": [
       "<div>\n",
       "<table border=\"1\" class=\"dataframe\">\n",
       "  <thead>\n",
       "    <tr style=\"text-align: right;\">\n",
       "      <th></th>\n",
       "      <th>Unnamed: 0</th>\n",
       "      <th>function</th>\n",
       "      <th>sup1</th>\n",
       "      <th>sup2</th>\n",
       "      <th>sup3</th>\n",
       "      <th>sup4</th>\n",
       "      <th>sup5</th>\n",
       "      <th>salary</th>\n",
       "      <th>gender</th>\n",
       "      <th>disabled</th>\n",
       "      <th>...</th>\n",
       "      <th>zip</th>\n",
       "      <th>country</th>\n",
       "      <th>category</th>\n",
       "      <th>instsize</th>\n",
       "      <th>insttype</th>\n",
       "      <th>median</th>\n",
       "      <th>mean</th>\n",
       "      <th>pop</th>\n",
       "      <th>missingSalary</th>\n",
       "      <th>missingMedian</th>\n",
       "    </tr>\n",
       "  </thead>\n",
       "  <tbody>\n",
       "    <tr>\n",
       "      <th>0</th>\n",
       "      <td>2211</td>\n",
       "      <td>position22</td>\n",
       "      <td>0</td>\n",
       "      <td>0</td>\n",
       "      <td>0</td>\n",
       "      <td>4</td>\n",
       "      <td>1</td>\n",
       "      <td>49088</td>\n",
       "      <td>Man</td>\n",
       "      <td>False</td>\n",
       "      <td>...</td>\n",
       "      <td>99775</td>\n",
       "      <td>United States</td>\n",
       "      <td>one</td>\n",
       "      <td>9223</td>\n",
       "      <td>Public Institution</td>\n",
       "      <td>79357</td>\n",
       "      <td>120734</td>\n",
       "      <td>1251</td>\n",
       "      <td>False</td>\n",
       "      <td>False</td>\n",
       "    </tr>\n",
       "    <tr>\n",
       "      <th>1</th>\n",
       "      <td>2212</td>\n",
       "      <td>position15</td>\n",
       "      <td>0</td>\n",
       "      <td>0</td>\n",
       "      <td>0</td>\n",
       "      <td>0</td>\n",
       "      <td>0</td>\n",
       "      <td>48131</td>\n",
       "      <td>Man</td>\n",
       "      <td>True</td>\n",
       "      <td>...</td>\n",
       "      <td>99775</td>\n",
       "      <td>United States</td>\n",
       "      <td>one</td>\n",
       "      <td>9223</td>\n",
       "      <td>Public Institution</td>\n",
       "      <td>79357</td>\n",
       "      <td>120734</td>\n",
       "      <td>1251</td>\n",
       "      <td>False</td>\n",
       "      <td>False</td>\n",
       "    </tr>\n",
       "    <tr>\n",
       "      <th>2</th>\n",
       "      <td>2216</td>\n",
       "      <td>position20</td>\n",
       "      <td>1</td>\n",
       "      <td>0</td>\n",
       "      <td>1</td>\n",
       "      <td>6</td>\n",
       "      <td>1</td>\n",
       "      <td>51625</td>\n",
       "      <td>Man</td>\n",
       "      <td>False</td>\n",
       "      <td>...</td>\n",
       "      <td>99775</td>\n",
       "      <td>United States</td>\n",
       "      <td>one</td>\n",
       "      <td>9223</td>\n",
       "      <td>Public Institution</td>\n",
       "      <td>79357</td>\n",
       "      <td>120734</td>\n",
       "      <td>1251</td>\n",
       "      <td>False</td>\n",
       "      <td>False</td>\n",
       "    </tr>\n",
       "    <tr>\n",
       "      <th>3</th>\n",
       "      <td>2217</td>\n",
       "      <td>position6</td>\n",
       "      <td>0</td>\n",
       "      <td>0</td>\n",
       "      <td>1</td>\n",
       "      <td>30</td>\n",
       "      <td>5</td>\n",
       "      <td>54225</td>\n",
       "      <td>Woman</td>\n",
       "      <td>False</td>\n",
       "      <td>...</td>\n",
       "      <td>99775</td>\n",
       "      <td>United States</td>\n",
       "      <td>one</td>\n",
       "      <td>9223</td>\n",
       "      <td>Public Institution</td>\n",
       "      <td>79357</td>\n",
       "      <td>120734</td>\n",
       "      <td>1251</td>\n",
       "      <td>False</td>\n",
       "      <td>False</td>\n",
       "    </tr>\n",
       "    <tr>\n",
       "      <th>4</th>\n",
       "      <td>2218</td>\n",
       "      <td>position10</td>\n",
       "      <td>0</td>\n",
       "      <td>0</td>\n",
       "      <td>0</td>\n",
       "      <td>7</td>\n",
       "      <td>0</td>\n",
       "      <td>67495</td>\n",
       "      <td>Woman</td>\n",
       "      <td>False</td>\n",
       "      <td>...</td>\n",
       "      <td>99775</td>\n",
       "      <td>United States</td>\n",
       "      <td>one</td>\n",
       "      <td>9223</td>\n",
       "      <td>Public Institution</td>\n",
       "      <td>79357</td>\n",
       "      <td>120734</td>\n",
       "      <td>1251</td>\n",
       "      <td>False</td>\n",
       "      <td>False</td>\n",
       "    </tr>\n",
       "  </tbody>\n",
       "</table>\n",
       "<p>5 rows × 35 columns</p>\n",
       "</div>"
      ],
      "text/plain": [
       "   Unnamed: 0    function  sup1  sup2  sup3  sup4  sup5  salary gender  \\\n",
       "0        2211  position22     0     0     0     4     1   49088    Man   \n",
       "1        2212  position15     0     0     0     0     0   48131    Man   \n",
       "2        2216  position20     1     0     1     6     1   51625    Man   \n",
       "3        2217   position6     0     0     1    30     5   54225  Woman   \n",
       "4        2218  position10     0     0     0     7     0   67495  Woman   \n",
       "\n",
       "  disabled      ...          zip        country  category  instsize  \\\n",
       "0    False      ...        99775  United States       one      9223   \n",
       "1     True      ...        99775  United States       one      9223   \n",
       "2    False      ...        99775  United States       one      9223   \n",
       "3    False      ...        99775  United States       one      9223   \n",
       "4    False      ...        99775  United States       one      9223   \n",
       "\n",
       "             insttype median    mean   pop  missingSalary  missingMedian  \n",
       "0  Public Institution  79357  120734  1251          False          False  \n",
       "1  Public Institution  79357  120734  1251          False          False  \n",
       "2  Public Institution  79357  120734  1251          False          False  \n",
       "3  Public Institution  79357  120734  1251          False          False  \n",
       "4  Public Institution  79357  120734  1251          False          False  \n",
       "\n",
       "[5 rows x 35 columns]"
      ]
     },
     "execution_count": 3,
     "metadata": {},
     "output_type": "execute_result"
    }
   ],
   "source": [
    "# eliminate rows with missing Y values (NaN)\n",
    "# eliminate rows with missing income/zip data (NaN)\n",
    "sal['missingSalary'] = pd.isnull(sal['salary'])\n",
    "sal['missingMedian'] = pd.isnull(sal['median'])\n",
    "sal2 = sal[(sal.missingSalary == False) & (sal.missingMedian == False)]\n",
    "\n",
    "sal2.head(5)"
   ]
  },
  {
   "cell_type": "code",
   "execution_count": 4,
   "metadata": {
    "collapsed": false
   },
   "outputs": [
    {
     "data": {
      "text/plain": [
       "Unnamed: 0              1024.196911\n",
       "sup1                       1.393050\n",
       "sup2                       0.591506\n",
       "sup3                       0.592278\n",
       "sup4                      47.639382\n",
       "sup5                       3.723552\n",
       "salary                 48635.030211\n",
       "disabled                   0.013900\n",
       "yearsinposition            5.936170\n",
       "yearsinprofession          9.349155\n",
       "age                       38.245981\n",
       "cred1                      0.071815\n",
       "cred2                      0.027027\n",
       "inst1                     15.583784\n",
       "inst2                      4.871042\n",
       "inst3                      3.433205\n",
       "inst4                    293.491892\n",
       "inst5                     24.653282\n",
       "instbudget           3761635.823129\n",
       "zip                    52828.590734\n",
       "instsize               21598.949573\n",
       "median                 41976.152896\n",
       "mean                   60579.115715\n",
       "pop                    19201.898069\n",
       "missingSalary              0.000000\n",
       "missingMedian              0.000000\n",
       "dtype: float64"
      ]
     },
     "execution_count": 4,
     "metadata": {},
     "output_type": "execute_result"
    }
   ],
   "source": [
    "sal2.mean()"
   ]
  },
  {
   "cell_type": "code",
   "execution_count": 5,
   "metadata": {
    "collapsed": false
   },
   "outputs": [],
   "source": [
    "# eliminate rows with missing Y values (NaN)\n",
    "#sal['missingSalary'] = pd.isnull(sal['salary'])\n",
    "#sal['missingMean'] = pd.isnull(sal['mean'])\n",
    "#sal2 = sal[(sal.missingSalary == False) & (sal.missingMean == False)]\n"
   ]
  },
  {
   "cell_type": "code",
   "execution_count": 6,
   "metadata": {
    "collapsed": false
   },
   "outputs": [],
   "source": [
    "# list of X vars to include\n",
    "X_numeric_features = ['sup1', 'sup2', 'sup3', 'sup4', 'sup5', 'disabled', 'yearsinposition', \n",
    "         'yearsinprofession', 'age', 'cred1', 'cred2', 'inst1', 'inst2', 'inst3', 'inst4', 'inst5', 'instbudget', 'instsize',\n",
    "        'median','mean','pop']\n",
    "X_numeric = sal2[X_numeric_features]\n",
    "X_categorical_features = ['function', 'gender', 'race', 'highestdegree', 'category', 'insttype']\n",
    "X_categorical = sal2[X_categorical_features]"
   ]
  },
  {
   "cell_type": "code",
   "execution_count": 7,
   "metadata": {
    "collapsed": false
   },
   "outputs": [],
   "source": [
    "# create dummy variables for each of the categorical features\n",
    "# DOC: http://pandas.pydata.org/pandas-docs/stable/generated/pandas.get_dummies.html\n",
    "\n",
    "Function_dummies = pd.get_dummies(X_categorical['function'])\n",
    "gender_dummies = pd.get_dummies(X_categorical['gender'])\n",
    "race_dummies = pd.get_dummies(X_categorical['race'])\n",
    "highestDegree_dummies = pd.get_dummies(X_categorical['highestdegree'])\n",
    "Category_dummies = pd.get_dummies(X_categorical['category'])\n",
    "instType_dummies = pd.get_dummies(X_categorical['insttype'])\n",
    "\n",
    "X_dummy_features = pd.concat([Function_dummies, gender_dummies, race_dummies, highestDegree_dummies, Category_dummies, instType_dummies], axis=1)\n",
    "\n",
    "# convert to ndarray\n",
    "X_dummy_features = X_dummy_features.as_matrix()"
   ]
  },
  {
   "cell_type": "code",
   "execution_count": 8,
   "metadata": {
    "collapsed": false
   },
   "outputs": [],
   "source": [
    "# impute missing values in numerical features\n",
    "# DOC: http://scikit-learn.org/stable/modules/preprocessing.html\n",
    "# default is imputing the mean\n",
    "from sklearn.preprocessing import Imputer\n",
    "imp = Imputer()\n",
    "imp.fit(X_numeric)\n",
    "X_numeric_imputed = imp.transform(X_numeric)"
   ]
  },
  {
   "cell_type": "code",
   "execution_count": 9,
   "metadata": {
    "collapsed": false
   },
   "outputs": [],
   "source": [
    "X = np.concatenate((X_dummy_features, X_numeric_imputed), axis=1)"
   ]
  },
  {
   "cell_type": "code",
   "execution_count": 10,
   "metadata": {
    "collapsed": false
   },
   "outputs": [],
   "source": [
    "# y is salary\n",
    "y = sal2.iloc[:, 7].values"
   ]
  },
  {
   "cell_type": "code",
   "execution_count": 11,
   "metadata": {
    "collapsed": true
   },
   "outputs": [],
   "source": [
    "# create training and test sets\n",
    "from sklearn.cross_validation import train_test_split\n",
    "\n",
    "X_train, X_test, y_train, y_test = train_test_split(\n",
    "         X, y, test_size=0.3, random_state=0)"
   ]
  },
  {
   "cell_type": "code",
   "execution_count": 12,
   "metadata": {
    "collapsed": true
   },
   "outputs": [],
   "source": [
    "# keep track of variance on test data, to graph\n",
    "var_to_graph = {}\n",
    "# bring residual sum of squares from regression1.ipynb\n",
    "var_to_graph['simpReg'] = 265376883.08\n",
    "# best residual sum of squares from first try Ridge Best \n",
    "var_to_graph['first_RIDGE'] = 97978320.56"
   ]
  },
  {
   "cell_type": "code",
   "execution_count": 13,
   "metadata": {
    "collapsed": true
   },
   "outputs": [],
   "source": [
    "from sklearn import datasets, linear_model\n",
    "# DOC: http://scikit-learn.org/stable/modules/generated/sklearn.linear_model.LinearRegression.html"
   ]
  },
  {
   "cell_type": "code",
   "execution_count": 14,
   "metadata": {
    "collapsed": false
   },
   "outputs": [
    {
     "name": "stdout",
     "output_type": "stream",
     "text": [
      "Intercept: \n",
      " 11308.455343\n",
      "Coefficients: \n",
      " [  4.18058036e+03  -5.83110943e+03  -8.73524282e+03  -1.16671408e+04\n",
      "  -3.73429322e+03   1.05285254e+03  -1.01133690e+04  -1.10413927e+04\n",
      "  -7.99989546e+03   8.74863775e+02  -7.57615395e+03  -8.49135567e+03\n",
      "  -8.25059730e+03  -9.17647736e+03  -9.76440284e+03  -1.52949751e+03\n",
      "  -8.13701184e+03  -1.10458526e+04  -1.22743440e+03  -1.27833097e+04\n",
      "  -4.32345035e+03  -1.45220537e+03  -9.16078409e+03  -5.06371969e+03\n",
      "  -8.97780780e+03  -1.51623587e+04  -4.52685759e+03  -9.03056063e+03\n",
      "  -2.69104439e+03  -3.84825165e+03   2.40243220e+03   7.63698395e+03\n",
      "   7.02483800e+03   4.45372444e+03   5.52078345e+02   1.72018587e+04\n",
      "   3.81512467e+03   4.95161742e+03   6.12694704e+03   1.31949487e+04\n",
      "   1.04932918e+04  -2.35427285e+02   2.62123926e+03  -2.62123926e+03\n",
      "   7.15682379e+03   5.31540948e+03   1.37887004e+03   1.05893152e+03\n",
      "  -2.62348467e+02   1.46224953e+01   8.03077979e+01  -1.82645449e+03\n",
      "   5.06279835e+01   2.75307343e+02   2.47867101e+02   3.00166426e+03\n",
      "   1.63488974e+03  -1.29527793e+00  -9.19446958e+01  -8.13688102e+00\n",
      "   5.51308061e+00   3.31739417e+01   1.22150643e-04   1.84122769e-01\n",
      "   2.27442987e-01  -8.33302073e-02  -1.51203460e-02]\n",
      "Residual sum of squares, training data: 80986934.50\n",
      "Residual sum of squares, test data: 98961976.37\n",
      "Variance score, training data: 0.76\n",
      "Distribution of prediction error on training data:\n"
     ]
    },
    {
     "data": {
      "image/png": "[encoded data removed]",
      "text/plain": [
       "<matplotlib.figure.Figure at 0x117c5c438>"
      ]
     },
     "metadata": {},
     "output_type": "display_data"
    },
    {
     "name": "stdout",
     "output_type": "stream",
     "text": [
      "Distribution of prediction error on test data:\n"
     ]
    },
    {
     "data": {
      "image/png": "[encoded data removed]",
      "text/plain": [
       "<matplotlib.figure.Figure at 0x117d50f28>"
      ]
     },
     "metadata": {},
     "output_type": "display_data"
    }
   ],
   "source": [
    "# Create linear regression object\n",
    "regr = linear_model.LinearRegression()\n",
    "\n",
    "# Train the model using the training sets\n",
    "X_train_no_intercept = X_train\n",
    "X_train = X_train.reshape(-1, X_train.shape[1])\n",
    "regr.fit(X_train, y_train)\n",
    "\n",
    "# The intercept\n",
    "print('Intercept: \\n', regr.intercept_)\n",
    "# The coefficients\n",
    "print('Coefficients: \\n', regr.coef_)\n",
    "# The mean square error\n",
    "print(\"Residual sum of squares, training data: %.2f\"\n",
    "      % np.mean((regr.predict(X_train) - y_train) ** 2))\n",
    "print(\"Residual sum of squares, test data: %.2f\"\n",
    "      % np.mean((regr.predict(X_test) - y_test) ** 2))\n",
    "var_to_graph['multReg_linear'] = np.mean((regr.predict(X_test) - y_test) ** 2)\n",
    "# Explained variance score: 1 is perfect prediction\n",
    "print('Variance score, training data: %.2f' % regr.score(X_train, y_train))\n",
    "#vector of prediction error\n",
    "print('Distribution of prediction error on training data:')\n",
    "predError = regr.predict(X_train) - y_train\n",
    "plt.hist(predError)\n",
    "plt.show()\n",
    "\n",
    "print('Distribution of prediction error on test data:')\n",
    "predError = regr.predict(X_test) - y_test\n",
    "plt.hist(predError)\n",
    "plt.show()"
   ]
  },
  {
   "cell_type": "code",
   "execution_count": 15,
   "metadata": {
    "collapsed": true
   },
   "outputs": [],
   "source": [
    "from sklearn.preprocessing import PolynomialFeatures\n",
    "# DOC: http://scikit-learn.org/stable/modules/preprocessing.html\n",
    "\n",
    "poly = PolynomialFeatures(2)\n",
    "X_poly = poly.fit_transform(X)"
   ]
  },
  {
   "cell_type": "code",
   "execution_count": 16,
   "metadata": {
    "collapsed": true
   },
   "outputs": [],
   "source": [
    "# create training and test sets\n",
    "from sklearn.cross_validation import train_test_split\n",
    "\n",
    "X_train, X_test, y_train, y_test = train_test_split(\n",
    "         X_poly, y, test_size=0.3, random_state=0)"
   ]
  },
  {
   "cell_type": "code",
   "execution_count": 17,
   "metadata": {
    "collapsed": false
   },
   "outputs": [
    {
     "name": "stdout",
     "output_type": "stream",
     "text": [
      "Intercept: \n",
      " 3.63090140236e+13\n",
      "Coefficients: \n",
      " [ -3.85527751e+14   3.19464573e+13  -2.04336069e+14 ...,   3.15869155e-06\n",
      "   3.69681354e-05   4.07500304e-05]\n",
      "Residual sum of squares, training data: 811610.35\n",
      "Residual sum of squares, test data: 280760809101977294032863232.00\n",
      "Variance score, training data: 1.00\n",
      "Distribution of prediction error on training data:\n"
     ]
    },
    {
     "data": {
      "image/png": "[encoded data removed]",
      "text/plain": [
       "<matplotlib.figure.Figure at 0x117d42b70>"
      ]
     },
     "metadata": {},
     "output_type": "display_data"
    },
    {
     "name": "stdout",
     "output_type": "stream",
     "text": [
      "Distribution of prediction error on test data:\n"
     ]
    },
    {
     "data": {
      "image/png": "[encoded data removed]",
      "text/plain": [
       "<matplotlib.figure.Figure at 0x11bd2de10>"
      ]
     },
     "metadata": {},
     "output_type": "display_data"
    }
   ],
   "source": [
    "## POLYNOMINAL \n",
    "# Create linear regression object\n",
    "poly = linear_model.LinearRegression(normalize=True)\n",
    "\n",
    "# Train the model using the training sets\n",
    "X_train_no_intercept = X_train\n",
    "X_train = X_train.reshape(-1, X_train.shape[1])\n",
    "poly.fit(X_train, y_train)\n",
    "\n",
    "# The intercept\n",
    "print('Intercept: \\n', poly.intercept_)\n",
    "# The coefficients\n",
    "print('Coefficients: \\n', poly.coef_)\n",
    "# The mean square error\n",
    "print(\"Residual sum of squares, training data: %.2f\"\n",
    "      % np.mean((poly.predict(X_train) - y_train) ** 2))\n",
    "print(\"Residual sum of squares, test data: %.2f\"\n",
    "      % np.mean((poly.predict(X_test) - y_test) ** 2))\n",
    "var_to_graph['multReg_poly'] = np.mean((poly.predict(X_test) - y_test) ** 2)\n",
    "# Explained variance score: 1 is perfect prediction\n",
    "print('Variance score, training data: %.2f' % poly.score(X_train, y_train))\n",
    "#vector of prediction error\n",
    "print('Distribution of prediction error on training data:')\n",
    "predError = poly.predict(X_train) - y_train\n",
    "plt.hist(predError)\n",
    "plt.show()\n",
    "\n",
    "print('Distribution of prediction error on test data:')\n",
    "predError = poly.predict(X_test) - y_test\n",
    "plt.hist(predError)\n",
    "plt.show()"
   ]
  },
  {
   "cell_type": "code",
   "execution_count": 18,
   "metadata": {
    "collapsed": false
   },
   "outputs": [
    {
     "name": "stdout",
     "output_type": "stream",
     "text": [
      "Intercept: \n",
      " 9700.88120276\n",
      "Coefficients: \n",
      " [  1.00368724e+04   2.12270126e+02  -2.63614475e+03  -5.08461265e+03\n",
      "   2.21903177e+03   6.42369706e+03  -3.93682558e+03  -4.09084115e+03\n",
      "  -1.79272226e+03   5.39686171e+03  -1.36682685e+03  -2.36340031e+03\n",
      "  -2.05067815e+03  -2.81449390e+03  -3.57596232e+03   3.07104840e+03\n",
      "  -1.50493864e+03  -5.47384355e+03   3.35161379e+03  -6.20347240e+03\n",
      "   7.40640959e+02   4.54219907e+03  -3.08307765e+03   9.05235567e+02\n",
      "  -2.83760202e+03  -8.09968071e+03   1.19327846e+03  -2.90141985e+03\n",
      "   1.52580831e+03   4.08583928e+02  -2.04860216e+02   4.57717561e+03\n",
      "   3.70436713e+03   1.92507042e+03  -1.91477189e+03   7.19998153e+03\n",
      "   1.09669388e+03   1.26235476e+03   2.27604305e+03   8.81450128e+03\n",
      "   6.58007480e+03  -3.80393104e+03   2.96169560e+03  -2.96169560e+03\n",
      "   5.21900075e+03   3.10219324e+03   1.41333221e+03   1.07592575e+03\n",
      "  -2.47354710e+02   1.29969513e+01   8.02808866e+01  -1.69426710e+03\n",
      "   4.49449598e+01   2.88211062e+02   2.39342296e+02   3.14537959e+03\n",
      "   1.49091907e+03  -7.64642414e+00  -9.79628953e+01  -2.84009682e+01\n",
      "   6.43990199e+00   3.23985276e+01   1.05882170e-04   1.82203747e-01\n",
      "   2.18364852e-01  -8.14358771e-02  -1.01546615e-02]\n",
      "Residual sum of squares, training data: 81371660.19\n",
      "Residual sum of squares, test data: 97978320.56\n",
      "Variance score, training data: 0.76\n",
      "Distribution of prediction error on training data:\n"
     ]
    },
    {
     "data": {
      "image/png": "[encoded data removed]",
      "text/plain": [
       "<matplotlib.figure.Figure at 0x117d50828>"
      ]
     },
     "metadata": {},
     "output_type": "display_data"
    },
    {
     "name": "stdout",
     "output_type": "stream",
     "text": [
      "Distribution of prediction error on test data:\n"
     ]
    },
    {
     "data": {
      "image/png": "[encoded data removed]",
      "text/plain": [
       "<matplotlib.figure.Figure at 0x121e11a20>"
      ]
     },
     "metadata": {},
     "output_type": "display_data"
    }
   ],
   "source": [
    "## RIDGE REGRESSION\n",
    "# DOC: http://scikit-learn.org/stable/modules/generated/sklearn.linear_model.Ridge.html\n",
    "\n",
    "# create training and test sets\n",
    "#so far in the default\n",
    "from sklearn.cross_validation import train_test_split\n",
    "\n",
    "X_train, X_test, y_train, y_test = train_test_split(\n",
    "         X, y, test_size=0.3, random_state=0)\n",
    "\n",
    "# Create linear regression object\n",
    "regr = linear_model.Ridge()\n",
    "\n",
    "# Train the model using the training sets\n",
    "X_train_no_intercept = X_train\n",
    "X_train = X_train.reshape(-1, X_train.shape[1])\n",
    "regr.fit(X_train, y_train)\n",
    "\n",
    "# The intercept\n",
    "print('Intercept: \\n', regr.intercept_)\n",
    "# The coefficients\n",
    "print('Coefficients: \\n', regr.coef_)\n",
    "# The mean square error\n",
    "print(\"Residual sum of squares, training data: %.2f\"\n",
    "      % np.mean((regr.predict(X_train) - y_train) ** 2))\n",
    "print(\"Residual sum of squares, test data: %.2f\"\n",
    "      % np.mean((regr.predict(X_test) - y_test) ** 2))\n",
    "var_to_graph['multReg_ridge'] = np.mean((regr.predict(X_test) - y_test) ** 2)\n",
    "# Explained variance score: 1 is perfect prediction\n",
    "print('Variance score, training data: %.2f' % regr.score(X_train, y_train))\n",
    "#vector of prediction error\n",
    "print('Distribution of prediction error on training data:')\n",
    "predError = regr.predict(X_train) - y_train\n",
    "plt.hist(predError)\n",
    "plt.show()\n",
    "\n",
    "print('Distribution of prediction error on test data:')\n",
    "predError = regr.predict(X_test) - y_test\n",
    "plt.hist(predError)\n",
    "plt.show()"
   ]
  },
  {
   "cell_type": "code",
   "execution_count": 20,
   "metadata": {
    "collapsed": false
   },
   "outputs": [
    {
     "data": {
      "image/png": "[encoded data removed]",
      "text/plain": [
       "<matplotlib.figure.Figure at 0x11580e898>"
      ]
     },
     "metadata": {},
     "output_type": "display_data"
    }
   ],
   "source": [
    "# bar graph of dict with Residual Sum of Squares on test datasets\n",
    "\n",
    "var_to_graph['multReg_poly'] = 0\n",
    "plt.bar(range(len(var_to_graph)), var_to_graph.values(), align='center')\n",
    "plt.xticks(range(len(var_to_graph)), var_to_graph.keys())\n",
    "\n",
    "plt.show()"
   ]
  }
 ],
 "metadata": {
  "kernelspec": {
   "display_name": "Python 3",
   "language": "python",
   "name": "python3"
  },
  "language_info": {
   "codemirror_mode": {
    "name": "ipython",
    "version": 3
   },
   "file_extension": ".py",
   "mimetype": "text/x-python",
   "name": "python",
   "nbconvert_exporter": "python",
   "pygments_lexer": "ipython3",
   "version": "3.5.1"
  }
 },
 "nbformat": 4,
 "nbformat_minor": 0
}
