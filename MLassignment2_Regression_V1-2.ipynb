{
 "cells": [
  {
   "cell_type": "code",
   "execution_count": 1,
   "metadata": {
    "collapsed": true
   },
   "outputs": [],
   "source": [
    "import numpy as np\n",
    "import pandas as pd\n",
    "import matplotlib.pyplot as plt\n",
    "%matplotlib inline"
   ]
  },
  {
   "cell_type": "code",
   "execution_count": 2,
   "metadata": {
    "collapsed": false
   },
   "outputs": [],
   "source": [
    "sal = pd.read_csv('salaries-merged2.csv')"
   ]
  },
  {
   "cell_type": "code",
   "execution_count": 3,
   "metadata": {
    "collapsed": false
   },
   "outputs": [
    {
     "data": {
      "text/html": [
       "<div>\n",
       "<table border=\"1\" class=\"dataframe\">\n",
       "  <thead>\n",
       "    <tr style=\"text-align: right;\">\n",
       "      <th></th>\n",
       "      <th>Unnamed: 0</th>\n",
       "      <th>function</th>\n",
       "      <th>sup1</th>\n",
       "      <th>sup2</th>\n",
       "      <th>sup3</th>\n",
       "      <th>sup4</th>\n",
       "      <th>sup5</th>\n",
       "      <th>salary</th>\n",
       "      <th>gender</th>\n",
       "      <th>disabled</th>\n",
       "      <th>...</th>\n",
       "      <th>zip</th>\n",
       "      <th>country</th>\n",
       "      <th>category</th>\n",
       "      <th>instsize</th>\n",
       "      <th>insttype</th>\n",
       "      <th>median</th>\n",
       "      <th>mean</th>\n",
       "      <th>pop</th>\n",
       "      <th>missingSalary</th>\n",
       "      <th>missingMedian</th>\n",
       "    </tr>\n",
       "  </thead>\n",
       "  <tbody>\n",
       "    <tr>\n",
       "      <th>0</th>\n",
       "      <td>2211</td>\n",
       "      <td>position22</td>\n",
       "      <td>0</td>\n",
       "      <td>0</td>\n",
       "      <td>0</td>\n",
       "      <td>4</td>\n",
       "      <td>1</td>\n",
       "      <td>49088</td>\n",
       "      <td>Man</td>\n",
       "      <td>False</td>\n",
       "      <td>...</td>\n",
       "      <td>99775</td>\n",
       "      <td>United States</td>\n",
       "      <td>one</td>\n",
       "      <td>9223</td>\n",
       "      <td>Public Institution</td>\n",
       "      <td>79357</td>\n",
       "      <td>120734</td>\n",
       "      <td>1251</td>\n",
       "      <td>False</td>\n",
       "      <td>False</td>\n",
       "    </tr>\n",
       "    <tr>\n",
       "      <th>1</th>\n",
       "      <td>2212</td>\n",
       "      <td>position15</td>\n",
       "      <td>0</td>\n",
       "      <td>0</td>\n",
       "      <td>0</td>\n",
       "      <td>0</td>\n",
       "      <td>0</td>\n",
       "      <td>48131</td>\n",
       "      <td>Man</td>\n",
       "      <td>True</td>\n",
       "      <td>...</td>\n",
       "      <td>99775</td>\n",
       "      <td>United States</td>\n",
       "      <td>one</td>\n",
       "      <td>9223</td>\n",
       "      <td>Public Institution</td>\n",
       "      <td>79357</td>\n",
       "      <td>120734</td>\n",
       "      <td>1251</td>\n",
       "      <td>False</td>\n",
       "      <td>False</td>\n",
       "    </tr>\n",
       "    <tr>\n",
       "      <th>2</th>\n",
       "      <td>2216</td>\n",
       "      <td>position20</td>\n",
       "      <td>1</td>\n",
       "      <td>0</td>\n",
       "      <td>1</td>\n",
       "      <td>6</td>\n",
       "      <td>1</td>\n",
       "      <td>51625</td>\n",
       "      <td>Man</td>\n",
       "      <td>False</td>\n",
       "      <td>...</td>\n",
       "      <td>99775</td>\n",
       "      <td>United States</td>\n",
       "      <td>one</td>\n",
       "      <td>9223</td>\n",
       "      <td>Public Institution</td>\n",
       "      <td>79357</td>\n",
       "      <td>120734</td>\n",
       "      <td>1251</td>\n",
       "      <td>False</td>\n",
       "      <td>False</td>\n",
       "    </tr>\n",
       "    <tr>\n",
       "      <th>3</th>\n",
       "      <td>2217</td>\n",
       "      <td>position6</td>\n",
       "      <td>0</td>\n",
       "      <td>0</td>\n",
       "      <td>1</td>\n",
       "      <td>30</td>\n",
       "      <td>5</td>\n",
       "      <td>54225</td>\n",
       "      <td>Woman</td>\n",
       "      <td>False</td>\n",
       "      <td>...</td>\n",
       "      <td>99775</td>\n",
       "      <td>United States</td>\n",
       "      <td>one</td>\n",
       "      <td>9223</td>\n",
       "      <td>Public Institution</td>\n",
       "      <td>79357</td>\n",
       "      <td>120734</td>\n",
       "      <td>1251</td>\n",
       "      <td>False</td>\n",
       "      <td>False</td>\n",
       "    </tr>\n",
       "    <tr>\n",
       "      <th>4</th>\n",
       "      <td>2218</td>\n",
       "      <td>position10</td>\n",
       "      <td>0</td>\n",
       "      <td>0</td>\n",
       "      <td>0</td>\n",
       "      <td>7</td>\n",
       "      <td>0</td>\n",
       "      <td>67495</td>\n",
       "      <td>Woman</td>\n",
       "      <td>False</td>\n",
       "      <td>...</td>\n",
       "      <td>99775</td>\n",
       "      <td>United States</td>\n",
       "      <td>one</td>\n",
       "      <td>9223</td>\n",
       "      <td>Public Institution</td>\n",
       "      <td>79357</td>\n",
       "      <td>120734</td>\n",
       "      <td>1251</td>\n",
       "      <td>False</td>\n",
       "      <td>False</td>\n",
       "    </tr>\n",
       "  </tbody>\n",
       "</table>\n",
       "<p>5 rows × 35 columns</p>\n",
       "</div>"
      ],
      "text/plain": [
       "   Unnamed: 0    function  sup1  sup2  sup3  sup4  sup5  salary gender  \\\n",
       "0        2211  position22     0     0     0     4     1   49088    Man   \n",
       "1        2212  position15     0     0     0     0     0   48131    Man   \n",
       "2        2216  position20     1     0     1     6     1   51625    Man   \n",
       "3        2217   position6     0     0     1    30     5   54225  Woman   \n",
       "4        2218  position10     0     0     0     7     0   67495  Woman   \n",
       "\n",
       "  disabled      ...          zip        country  category  instsize  \\\n",
       "0    False      ...        99775  United States       one      9223   \n",
       "1     True      ...        99775  United States       one      9223   \n",
       "2    False      ...        99775  United States       one      9223   \n",
       "3    False      ...        99775  United States       one      9223   \n",
       "4    False      ...        99775  United States       one      9223   \n",
       "\n",
       "             insttype median    mean   pop  missingSalary  missingMedian  \n",
       "0  Public Institution  79357  120734  1251          False          False  \n",
       "1  Public Institution  79357  120734  1251          False          False  \n",
       "2  Public Institution  79357  120734  1251          False          False  \n",
       "3  Public Institution  79357  120734  1251          False          False  \n",
       "4  Public Institution  79357  120734  1251          False          False  \n",
       "\n",
       "[5 rows x 35 columns]"
      ]
     },
     "execution_count": 3,
     "metadata": {},
     "output_type": "execute_result"
    }
   ],
   "source": [
    "# eliminate rows with missing Y values (NaN)\n",
    "# eliminate rows with missing income/zip data (NaN)\n",
    "sal['missingSalary'] = pd.isnull(sal['salary'])\n",
    "sal['missingMedian'] = pd.isnull(sal['median'])\n",
    "sal2 = sal[(sal.missingSalary == False) & (sal.missingMedian == False)]\n",
    "\n",
    "sal2.head(5)"
   ]
  },
  {
   "cell_type": "code",
   "execution_count": 4,
   "metadata": {
    "collapsed": false
   },
   "outputs": [
    {
     "data": {
      "text/plain": [
       "Unnamed: 0              1024.196911\n",
       "sup1                       1.393050\n",
       "sup2                       0.591506\n",
       "sup3                       0.592278\n",
       "sup4                      47.639382\n",
       "sup5                       3.723552\n",
       "salary                 48635.030211\n",
       "disabled                   0.013900\n",
       "yearsinposition            5.936170\n",
       "yearsinprofession          9.349155\n",
       "age                       38.245981\n",
       "cred1                      0.071815\n",
       "cred2                      0.027027\n",
       "inst1                     15.583784\n",
       "inst2                      4.871042\n",
       "inst3                      3.433205\n",
       "inst4                    293.491892\n",
       "inst5                     24.653282\n",
       "instbudget           3761635.823129\n",
       "zip                    52828.590734\n",
       "instsize               21598.949573\n",
       "median                 41976.152896\n",
       "mean                   60579.115715\n",
       "pop                    19201.898069\n",
       "missingSalary              0.000000\n",
       "missingMedian              0.000000\n",
       "dtype: float64"
      ]
     },
     "execution_count": 4,
     "metadata": {},
     "output_type": "execute_result"
    }
   ],
   "source": [
    "sal2.mean()"
   ]
  },
  {
   "cell_type": "code",
   "execution_count": 5,
   "metadata": {
    "collapsed": false
   },
   "outputs": [],
   "source": [
    "# eliminate rows with missing Y values (NaN)\n",
    "#sal['missingSalary'] = pd.isnull(sal['salary'])\n",
    "#sal['missingMean'] = pd.isnull(sal['mean'])\n",
    "#sal2 = sal[(sal.missingSalary == False) & (sal.missingMean == False)]\n"
   ]
  },
  {
   "cell_type": "code",
   "execution_count": 6,
   "metadata": {
    "collapsed": false
   },
   "outputs": [],
   "source": [
    "# list of X vars to include\n",
    "X_numeric_features = ['sup1', 'sup2', 'sup3', 'sup4', 'sup5', 'disabled', 'yearsinposition', \n",
    "         'yearsinprofession', 'age', 'cred1', 'cred2', 'inst1', 'inst2', 'inst3', 'inst4', 'inst5', 'instbudget', 'instsize',\n",
    "        'median','mean','pop']\n",
    "X_numeric = sal2[X_numeric_features]\n",
    "X_categorical_features = ['function', 'gender', 'race', 'highestdegree', 'category', 'insttype']\n",
    "X_categorical = sal2[X_categorical_features]"
   ]
  },
  {
   "cell_type": "code",
   "execution_count": 7,
   "metadata": {
    "collapsed": false
   },
   "outputs": [],
   "source": [
    "# create dummy variables for each of the categorical features\n",
    "# DOC: http://pandas.pydata.org/pandas-docs/stable/generated/pandas.get_dummies.html\n",
    "\n",
    "Function_dummies = pd.get_dummies(X_categorical['function'])\n",
    "gender_dummies = pd.get_dummies(X_categorical['gender'])\n",
    "race_dummies = pd.get_dummies(X_categorical['race'])\n",
    "highestDegree_dummies = pd.get_dummies(X_categorical['highestdegree'])\n",
    "Category_dummies = pd.get_dummies(X_categorical['category'])\n",
    "instType_dummies = pd.get_dummies(X_categorical['insttype'])\n",
    "\n",
    "X_dummy_features = pd.concat([Function_dummies, gender_dummies, race_dummies, highestDegree_dummies, Category_dummies, instType_dummies], axis=1)\n",
    "\n",
    "# convert to ndarray\n",
    "X_dummy_features = X_dummy_features.as_matrix()"
   ]
  },
  {
   "cell_type": "code",
   "execution_count": 8,
   "metadata": {
    "collapsed": false
   },
   "outputs": [],
   "source": [
    "# impute missing values in numerical features\n",
    "# DOC: http://scikit-learn.org/stable/modules/preprocessing.html\n",
    "# default is imputing the mean\n",
    "from sklearn.preprocessing import Imputer\n",
    "imp = Imputer()\n",
    "imp.fit(X_numeric)\n",
    "X_numeric_imputed = imp.transform(X_numeric)"
   ]
  },
  {
   "cell_type": "code",
   "execution_count": 9,
   "metadata": {
    "collapsed": false
   },
   "outputs": [],
   "source": [
    "X = np.concatenate((X_dummy_features, X_numeric_imputed), axis=1)"
   ]
  },
  {
   "cell_type": "code",
   "execution_count": 10,
   "metadata": {
    "collapsed": false
   },
   "outputs": [],
   "source": [
    "# y is salary\n",
    "y = sal2.iloc[:, 7].values\n",
    "#y = np.sqrt(y_all)"
   ]
  },
  {
   "cell_type": "code",
   "execution_count": 11,
   "metadata": {
    "collapsed": true
   },
   "outputs": [],
   "source": [
    "# create training and test sets\n",
    "from sklearn.cross_validation import train_test_split\n",
    "\n",
    "X_train, X_test, y_train, y_test = train_test_split(\n",
    "         X, y, test_size=0.3, random_state=0)"
   ]
  },
  {
   "cell_type": "code",
   "execution_count": 52,
   "metadata": {
    "collapsed": true
   },
   "outputs": [],
   "source": [
    "# keep track of variance on test data, to graph\n",
    "var_to_graph = {}\n",
    "# bring residual sum of squares from regression1.ipynb\n",
    "var_to_graph['simpReg'] = 265376883.08\n",
    "# best residual sum of squares from first try Ridge Best \n",
    "var_to_graph['first_RIDGE'] = 97978320.56\n",
    "#best resiudal sum of squares with Ridge alpha of 200\n",
    "var_to_graph['second_RIDGE'] = 93950804.80\n",
    "#best residual sum of squares with Polynomial Lasso alpha of 100\n",
    "var_to_graph['poly_lasso'] = 92771351.24"
   ]
  },
  {
   "cell_type": "code",
   "execution_count": 13,
   "metadata": {
    "collapsed": true
   },
   "outputs": [],
   "source": [
    "from sklearn import datasets, linear_model\n",
    "# DOC: http://scikit-learn.org/stable/modules/generated/sklearn.linear_model.LinearRegression.html"
   ]
  },
  {
   "cell_type": "code",
   "execution_count": 14,
   "metadata": {
    "collapsed": false
   },
   "outputs": [
    {
     "name": "stdout",
     "output_type": "stream",
     "text": [
      "Intercept: \n",
      " 11308.455343\n",
      "Coefficients: \n",
      " [  4.18058036e+03  -5.83110943e+03  -8.73524282e+03  -1.16671408e+04\n",
      "  -3.73429322e+03   1.05285254e+03  -1.01133690e+04  -1.10413927e+04\n",
      "  -7.99989546e+03   8.74863775e+02  -7.57615395e+03  -8.49135567e+03\n",
      "  -8.25059730e+03  -9.17647736e+03  -9.76440284e+03  -1.52949751e+03\n",
      "  -8.13701184e+03  -1.10458526e+04  -1.22743440e+03  -1.27833097e+04\n",
      "  -4.32345035e+03  -1.45220537e+03  -9.16078409e+03  -5.06371969e+03\n",
      "  -8.97780780e+03  -1.51623587e+04  -4.52685759e+03  -9.03056063e+03\n",
      "  -2.69104439e+03  -3.84825165e+03   2.40243220e+03   7.63698395e+03\n",
      "   7.02483800e+03   4.45372444e+03   5.52078345e+02   1.72018587e+04\n",
      "   3.81512467e+03   4.95161742e+03   6.12694704e+03   1.31949487e+04\n",
      "   1.04932918e+04  -2.35427285e+02   2.62123926e+03  -2.62123926e+03\n",
      "   7.15682379e+03   5.31540948e+03   1.37887004e+03   1.05893152e+03\n",
      "  -2.62348467e+02   1.46224953e+01   8.03077979e+01  -1.82645449e+03\n",
      "   5.06279835e+01   2.75307343e+02   2.47867101e+02   3.00166426e+03\n",
      "   1.63488974e+03  -1.29527793e+00  -9.19446958e+01  -8.13688102e+00\n",
      "   5.51308061e+00   3.31739417e+01   1.22150643e-04   1.84122769e-01\n",
      "   2.27442987e-01  -8.33302073e-02  -1.51203460e-02]\n",
      "Residual sum of squares, training data: 80986934.50\n",
      "Residual sum of squares, test data: 98961976.37\n",
      "Variance score, training data: 0.76\n",
      "Distribution of prediction error on training data:\n"
     ]
    },
    {
     "data": {
      "image/png": "[encoded data removed]",
      "text/plain": [
       "<matplotlib.figure.Figure at 0x117d37748>"
      ]
     },
     "metadata": {},
     "output_type": "display_data"
    },
    {
     "name": "stdout",
     "output_type": "stream",
     "text": [
      "Distribution of prediction error on test data:\n"
     ]
    },
    {
     "data": {
      "image/png": "[encoded data removed]",
      "text/plain": [
       "<matplotlib.figure.Figure at 0x117d37ef0>"
      ]
     },
     "metadata": {},
     "output_type": "display_data"
    }
   ],
   "source": [
    "# Create linear regression object\n",
    "regr = linear_model.LinearRegression()\n",
    "\n",
    "# Train the model using the training sets\n",
    "X_train_no_intercept = X_train\n",
    "X_train = X_train.reshape(-1, X_train.shape[1])\n",
    "regr.fit(X_train, y_train)\n",
    "\n",
    "# The intercept\n",
    "print('Intercept: \\n', regr.intercept_)\n",
    "# The coefficients\n",
    "print('Coefficients: \\n', regr.coef_)\n",
    "# The mean square error\n",
    "print(\"Residual sum of squares, training data: %.2f\"\n",
    "      % np.mean((regr.predict(X_train) - y_train) ** 2))\n",
    "print(\"Residual sum of squares, test data: %.2f\"\n",
    "      % np.mean((regr.predict(X_test) - y_test) ** 2))\n",
    "var_to_graph['multReg_linear'] = np.mean((regr.predict(X_test) - y_test) ** 2)\n",
    "# Explained variance score: 1 is perfect prediction\n",
    "print('Variance score, training data: %.2f' % regr.score(X_train, y_train))\n",
    "#vector of prediction error\n",
    "print('Distribution of prediction error on training data:')\n",
    "predError = regr.predict(X_train) - y_train\n",
    "plt.hist(predError)\n",
    "plt.show()\n",
    "\n",
    "print('Distribution of prediction error on test data:')\n",
    "predError = regr.predict(X_test) - y_test\n",
    "plt.hist(predError)\n",
    "plt.show()"
   ]
  },
  {
   "cell_type": "code",
   "execution_count": 15,
   "metadata": {
    "collapsed": true
   },
   "outputs": [],
   "source": [
    "from sklearn.preprocessing import PolynomialFeatures\n",
    "# DOC: http://scikit-learn.org/stable/modules/preprocessing.html\n",
    "\n",
    "poly = PolynomialFeatures(2)\n",
    "X_poly = poly.fit_transform(X)"
   ]
  },
  {
   "cell_type": "code",
   "execution_count": 16,
   "metadata": {
    "collapsed": true
   },
   "outputs": [],
   "source": [
    "# create training and test sets\n",
    "from sklearn.cross_validation import train_test_split\n",
    "\n",
    "X_train, X_test, y_train, y_test = train_test_split(\n",
    "         X_poly, y, test_size=0.3, random_state=0)"
   ]
  },
  {
   "cell_type": "code",
   "execution_count": 50,
   "metadata": {
    "collapsed": false
   },
   "outputs": [
    {
     "name": "stdout",
     "output_type": "stream",
     "text": [
      "Intercept: \n",
      " 19112.4746389\n",
      "Coefficients: \n",
      " [  1.14620975e+04   3.74388233e+02  -0.00000000e+00  -0.00000000e+00\n",
      "   0.00000000e+00   0.00000000e+00  -1.01469220e+03  -0.00000000e+00\n",
      "  -0.00000000e+00   0.00000000e+00   0.00000000e+00  -0.00000000e+00\n",
      "   0.00000000e+00  -0.00000000e+00  -0.00000000e+00   0.00000000e+00\n",
      "   0.00000000e+00  -2.07096485e+03   0.00000000e+00  -0.00000000e+00\n",
      "   0.00000000e+00   4.24761220e+03  -0.00000000e+00   0.00000000e+00\n",
      "  -0.00000000e+00  -0.00000000e+00   0.00000000e+00  -0.00000000e+00\n",
      "   4.62158795e+02  -0.00000000e+00  -0.00000000e+00   0.00000000e+00\n",
      "   0.00000000e+00   1.32641127e+03  -0.00000000e+00   0.00000000e+00\n",
      "   0.00000000e+00  -0.00000000e+00   0.00000000e+00   1.56733050e+03\n",
      "   3.66194596e+03  -5.32183081e+03   0.00000000e+00  -0.00000000e+00\n",
      "   1.54177473e+03  -0.00000000e+00   1.57654497e+03   1.13478341e+03\n",
      "  -3.72890026e+01   7.05402502e+00   6.84767044e+01  -0.00000000e+00\n",
      "   6.51186681e-01   3.81278059e+02   1.94026382e+02   2.32319061e+03\n",
      "   0.00000000e+00  -2.42869001e+01  -1.17706599e+02  -1.11344478e+02\n",
      "   1.10999515e+01   3.29400239e+01   6.60292451e-05   1.48192186e-01\n",
      "   1.98744718e-01  -7.36951849e-02   7.33174191e-04]\n",
      "Residual sum of squares, training data: 88296947.77\n",
      "Residual sum of squares, test data: 92771351.24\n",
      "Variance score, training data: 0.74\n",
      "Distribution of prediction error on training data:\n"
     ]
    },
    {
     "data": {
      "image/png": "[encoded data removed]",
      "text/plain": [
       "<matplotlib.figure.Figure at 0x11bcc7710>"
      ]
     },
     "metadata": {},
     "output_type": "display_data"
    },
    {
     "name": "stdout",
     "output_type": "stream",
     "text": [
      "Distribution of prediction error on test data:\n"
     ]
    },
    {
     "data": {
      "image/png": "[encoded data removed]",
      "text/plain": [
       "<matplotlib.figure.Figure at 0x120e16748>"
      ]
     },
     "metadata": {},
     "output_type": "display_data"
    }
   ],
   "source": [
    "## POLYNOMINAL \n",
    "# Create linear regression object\n",
    "poly = linear_model.Lasso(alpha=100)\n",
    "\n",
    "# Train the model using the training sets\n",
    "X_train_no_intercept = X_train\n",
    "X_train = X_train.reshape(-1, X_train.shape[1])\n",
    "poly.fit(X_train, y_train)\n",
    "\n",
    "# The intercept\n",
    "print('Intercept: \\n', poly.intercept_)\n",
    "# The coefficients\n",
    "print('Coefficients: \\n', poly.coef_)\n",
    "# The mean square error\n",
    "print(\"Residual sum of squares, training data: %.2f\"\n",
    "      % np.mean((poly.predict(X_train) - y_train) ** 2))\n",
    "print(\"Residual sum of squares, test data: %.2f\"\n",
    "      % np.mean((poly.predict(X_test) - y_test) ** 2))\n",
    "var_to_graph['multReg_poly'] = np.mean((poly.predict(X_test) - y_test) ** 2)\n",
    "# Explained variance score: 1 is perfect prediction\n",
    "print('Variance score, training data: %.2f' % poly.score(X_train, y_train))\n",
    "#vector of prediction error\n",
    "print('Distribution of prediction error on training data:')\n",
    "predError = poly.predict(X_train) - y_train\n",
    "plt.hist(predError)\n",
    "plt.show()\n",
    "\n",
    "print('Distribution of prediction error on test data:')\n",
    "predError = poly.predict(X_test) - y_test\n",
    "plt.hist(predError)\n",
    "plt.show()"
   ]
  },
  {
   "cell_type": "code",
   "execution_count": 38,
   "metadata": {
    "collapsed": false
   },
   "outputs": [
    {
     "name": "stdout",
     "output_type": "stream",
     "text": [
      "Intercept: \n",
      " 21060.8493622\n",
      "Coefficients: \n",
      " [  4.50082070e+03   4.45212380e+02  -2.93129423e+02  -3.66432772e+02\n",
      "   5.21044901e+02   6.93284533e+02  -1.34509661e+03  -1.06010700e+02\n",
      "  -2.96150101e+02   3.69656593e+02   4.82814572e+01  -5.04798801e+02\n",
      "  -7.56227958e+01  -1.80595131e+02  -9.24106760e+02   1.50031223e+02\n",
      "   4.28322761e+01  -1.78505898e+03   1.32915932e+02  -3.13945252e+02\n",
      "   4.97599022e+00   1.36327600e+03  -5.54678008e+02   4.86932471e+02\n",
      "  -6.32337780e+02  -5.70311152e+02   9.19746675e+01  -8.00341734e+02\n",
      "   6.12021709e+02  -1.08140042e+02  -6.53898340e+02   6.04529198e+02\n",
      "   1.38365881e+02   1.21113489e+03  -7.57411916e+02   1.20060234e+02\n",
      "   5.68797519e+01  -2.45652199e+02  -2.42863847e+02   1.04779225e+03\n",
      "   3.24186252e+03  -2.78712422e+03   5.81803136e+02  -5.81803136e+02\n",
      "   1.31356058e+03  -6.03768430e+02   1.76747492e+03   1.22500727e+03\n",
      "   1.24970272e+01   7.28887518e+00   7.75636364e+01  -3.31558803e+02\n",
      "  -6.59880231e+01   5.16487746e+02   1.74647613e+02   1.61335959e+03\n",
      "   5.84663725e+02  -3.03365337e+01  -1.44308849e+02  -1.29480723e+02\n",
      "   1.05241187e+01   3.33498263e+01  -4.49715118e-06   1.36298957e-01\n",
      "   2.10671674e-01  -8.30470824e-02   1.65308392e-03]\n",
      "Residual sum of squares, training data: 93064220.44\n",
      "Residual sum of squares, test data: 93950804.80\n",
      "Variance score, training data: 0.73\n",
      "Distribution of prediction error on training data:\n"
     ]
    },
    {
     "data": {
      "image/png": "[encoded data removed]",
      "text/plain": [
       "<matplotlib.figure.Figure at 0x12170a470>"
      ]
     },
     "metadata": {},
     "output_type": "display_data"
    },
    {
     "name": "stdout",
     "output_type": "stream",
     "text": [
      "Distribution of prediction error on test data:\n"
     ]
    },
    {
     "data": {
      "image/png": "[encoded data removed]",
      "text/plain": [
       "<matplotlib.figure.Figure at 0x120e05fd0>"
      ]
     },
     "metadata": {},
     "output_type": "display_data"
    }
   ],
   "source": [
    "## RIDGE REGRESSION\n",
    "# DOC: http://scikit-learn.org/stable/modules/generated/sklearn.linear_model.Ridge.html\n",
    "\n",
    "# create training and test sets\n",
    "#so far in the default\n",
    "from sklearn.cross_validation import train_test_split\n",
    "\n",
    "X_train, X_test, y_train, y_test = train_test_split(\n",
    "         X, y, test_size=0.3, random_state=0)\n",
    "\n",
    "# Create linear regression object\n",
    "#regr = linear_model.Lasso(alpha=0.00001, max_iter=10000)\n",
    "regr = linear_model.Ridge(alpha=100, max_iter=10000)\n",
    "\n",
    "# Train the model using the training sets\n",
    "X_train_no_intercept = X_train\n",
    "X_train = X_train.reshape(-1, X_train.shape[1])\n",
    "regr.fit(X_train, y_train)\n",
    "\n",
    "# The intercept\n",
    "print('Intercept: \\n', regr.intercept_)\n",
    "# The coefficients\n",
    "print('Coefficients: \\n', regr.coef_)\n",
    "# The mean square error\n",
    "print(\"Residual sum of squares, training data: %.2f\"\n",
    "      % np.mean((regr.predict(X_train) - y_train) ** 2))\n",
    "print(\"Residual sum of squares, test data: %.2f\"\n",
    "      % np.mean((regr.predict(X_test) - y_test) ** 2))\n",
    "var_to_graph['multReg_ridge'] = np.mean((regr.predict(X_test) - y_test) ** 2)\n",
    "# Explained variance score: 1 is perfect prediction\n",
    "print('Variance score, training data: %.2f' % regr.score(X_train, y_train))\n",
    "#vector of prediction error\n",
    "print('Distribution of prediction error on training data:')\n",
    "predError = regr.predict(X_train) - y_train\n",
    "plt.hist(predError)\n",
    "plt.show()\n",
    "\n",
    "print('Distribution of prediction error on test data:')\n",
    "predError = regr.predict(X_test) - y_test\n",
    "plt.hist(predError)\n",
    "plt.show()"
   ]
  },
  {
   "cell_type": "code",
   "execution_count": 51,
   "metadata": {
    "collapsed": false
   },
   "outputs": [
    {
     "data": {
      "image/png": "[encoded data removed]",
      "text/plain": [
       "<matplotlib.figure.Figure at 0x1215a42b0>"
      ]
     },
     "metadata": {},
     "output_type": "display_data"
    }
   ],
   "source": [
    "# bar graph of dict with Residual Sum of Squares on test datasets\n",
    "\n",
    "var_to_graph['multReg_poly'] = 0\n",
    "plt.bar(range(len(var_to_graph)), var_to_graph.values(), align='center')\n",
    "plt.xticks(range(len(var_to_graph)), var_to_graph.keys())\n",
    "\n",
    "plt.show()"
   ]
  }
 ],
 "metadata": {
  "kernelspec": {
   "display_name": "Python 3",
   "language": "python",
   "name": "python3"
  },
  "language_info": {
   "codemirror_mode": {
    "name": "ipython",
    "version": 3
   },
   "file_extension": ".py",
   "mimetype": "text/x-python",
   "name": "python",
   "nbconvert_exporter": "python",
   "pygments_lexer": "ipython3",
   "version": "3.5.1"
  }
 },
 "nbformat": 4,
 "nbformat_minor": 0
}
