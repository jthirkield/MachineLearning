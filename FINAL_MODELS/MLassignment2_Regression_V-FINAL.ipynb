{
 "cells": [
  {
   "cell_type": "code",
   "execution_count": 29,
   "metadata": {
    "collapsed": true
   },
   "outputs": [],
   "source": [
    "import numpy as np\n",
    "import pandas as pd\n",
    "import matplotlib.pyplot as plt\n",
    "%matplotlib inline"
   ]
  },
  {
   "cell_type": "code",
   "execution_count": 30,
   "metadata": {
    "collapsed": false
   },
   "outputs": [],
   "source": [
    "sal = pd.read_csv('merged_cbsa_salary.csv')"
   ]
  },
  {
   "cell_type": "code",
   "execution_count": 31,
   "metadata": {
    "collapsed": false
   },
   "outputs": [
    {
     "data": {
      "text/html": [
       "<div>\n",
       "<table border=\"1\" class=\"dataframe\">\n",
       "  <thead>\n",
       "    <tr style=\"text-align: right;\">\n",
       "      <th></th>\n",
       "      <th>Unnamed: 0</th>\n",
       "      <th>zip</th>\n",
       "      <th>function</th>\n",
       "      <th>sup1</th>\n",
       "      <th>sup2</th>\n",
       "      <th>sup3</th>\n",
       "      <th>sup4</th>\n",
       "      <th>sup5</th>\n",
       "      <th>salary</th>\n",
       "      <th>gender</th>\n",
       "      <th>...</th>\n",
       "      <th>Types.of.Health.Insurance.Coverage.by.Age..65.years.and.over..With.two.or.more.types.of.health.insurance.coverage.With.Medicare.and.Medicaid.means.tested.public.coverage</th>\n",
       "      <th>Types.of.Health.Insurance.Coverage.by.Age..65.years.and.over..With.two.or.more.types.of.health.insurance.coverage.Other.private.only.combinations</th>\n",
       "      <th>Types.of.Health.Insurance.Coverage.by.Age..65.years.and.over..With.two.or.more.types.of.health.insurance.coverage.Other.public.only.combinations</th>\n",
       "      <th>Types.of.Health.Insurance.Coverage.by.Age..65.years.and.over..With.two.or.more.types.of.health.insurance.coverage.Other.coverage.combinations</th>\n",
       "      <th>Types.of.Health.Insurance.Coverage.by.Age..65.years.and.over..No.health.insurance.coverage</th>\n",
       "      <th>married</th>\n",
       "      <th>divorced</th>\n",
       "      <th>bad_english</th>\n",
       "      <th>poverty</th>\n",
       "      <th>missingSalary</th>\n",
       "    </tr>\n",
       "  </thead>\n",
       "  <tbody>\n",
       "    <tr>\n",
       "      <th>0</th>\n",
       "      <td>1</td>\n",
       "      <td>1003</td>\n",
       "      <td>position1</td>\n",
       "      <td>4</td>\n",
       "      <td>4</td>\n",
       "      <td>0</td>\n",
       "      <td>0</td>\n",
       "      <td>0</td>\n",
       "      <td>77308</td>\n",
       "      <td>M</td>\n",
       "      <td>...</td>\n",
       "      <td>9442</td>\n",
       "      <td>0</td>\n",
       "      <td>1289</td>\n",
       "      <td>18508</td>\n",
       "      <td>194</td>\n",
       "      <td>42.023943</td>\n",
       "      <td>10.485747</td>\n",
       "      <td>7.930932</td>\n",
       "      <td>16.801532</td>\n",
       "      <td>False</td>\n",
       "    </tr>\n",
       "    <tr>\n",
       "      <th>1</th>\n",
       "      <td>2</td>\n",
       "      <td>1003</td>\n",
       "      <td>position15</td>\n",
       "      <td>0</td>\n",
       "      <td>2</td>\n",
       "      <td>0</td>\n",
       "      <td>60</td>\n",
       "      <td>0</td>\n",
       "      <td>38120</td>\n",
       "      <td>M</td>\n",
       "      <td>...</td>\n",
       "      <td>9442</td>\n",
       "      <td>0</td>\n",
       "      <td>1289</td>\n",
       "      <td>18508</td>\n",
       "      <td>194</td>\n",
       "      <td>42.023943</td>\n",
       "      <td>10.485747</td>\n",
       "      <td>7.930932</td>\n",
       "      <td>16.801532</td>\n",
       "      <td>False</td>\n",
       "    </tr>\n",
       "    <tr>\n",
       "      <th>2</th>\n",
       "      <td>3</td>\n",
       "      <td>1003</td>\n",
       "      <td>position15</td>\n",
       "      <td>1</td>\n",
       "      <td>0</td>\n",
       "      <td>0</td>\n",
       "      <td>60</td>\n",
       "      <td>2</td>\n",
       "      <td>55335</td>\n",
       "      <td>W</td>\n",
       "      <td>...</td>\n",
       "      <td>9442</td>\n",
       "      <td>0</td>\n",
       "      <td>1289</td>\n",
       "      <td>18508</td>\n",
       "      <td>194</td>\n",
       "      <td>42.023943</td>\n",
       "      <td>10.485747</td>\n",
       "      <td>7.930932</td>\n",
       "      <td>16.801532</td>\n",
       "      <td>False</td>\n",
       "    </tr>\n",
       "    <tr>\n",
       "      <th>3</th>\n",
       "      <td>4</td>\n",
       "      <td>1003</td>\n",
       "      <td>position4</td>\n",
       "      <td>1</td>\n",
       "      <td>0</td>\n",
       "      <td>0</td>\n",
       "      <td>35</td>\n",
       "      <td>1</td>\n",
       "      <td>70863</td>\n",
       "      <td>W</td>\n",
       "      <td>...</td>\n",
       "      <td>9442</td>\n",
       "      <td>0</td>\n",
       "      <td>1289</td>\n",
       "      <td>18508</td>\n",
       "      <td>194</td>\n",
       "      <td>42.023943</td>\n",
       "      <td>10.485747</td>\n",
       "      <td>7.930932</td>\n",
       "      <td>16.801532</td>\n",
       "      <td>False</td>\n",
       "    </tr>\n",
       "    <tr>\n",
       "      <th>4</th>\n",
       "      <td>5</td>\n",
       "      <td>1003</td>\n",
       "      <td>position9</td>\n",
       "      <td>1</td>\n",
       "      <td>0</td>\n",
       "      <td>0</td>\n",
       "      <td>100</td>\n",
       "      <td>0</td>\n",
       "      <td>56557</td>\n",
       "      <td>M</td>\n",
       "      <td>...</td>\n",
       "      <td>9442</td>\n",
       "      <td>0</td>\n",
       "      <td>1289</td>\n",
       "      <td>18508</td>\n",
       "      <td>194</td>\n",
       "      <td>42.023943</td>\n",
       "      <td>10.485747</td>\n",
       "      <td>7.930932</td>\n",
       "      <td>16.801532</td>\n",
       "      <td>False</td>\n",
       "    </tr>\n",
       "  </tbody>\n",
       "</table>\n",
       "<p>5 rows × 202 columns</p>\n",
       "</div>"
      ],
      "text/plain": [
       "   Unnamed: 0   zip    function  sup1  sup2  sup3  sup4  sup5  salary gender  \\\n",
       "0           1  1003   position1     4     4     0     0     0   77308      M   \n",
       "1           2  1003  position15     0     2     0    60     0   38120      M   \n",
       "2           3  1003  position15     1     0     0    60     2   55335      W   \n",
       "3           4  1003   position4     1     0     0    35     1   70863      W   \n",
       "4           5  1003   position9     1     0     0   100     0   56557      M   \n",
       "\n",
       "       ...        \\\n",
       "0      ...         \n",
       "1      ...         \n",
       "2      ...         \n",
       "3      ...         \n",
       "4      ...         \n",
       "\n",
       "  Types.of.Health.Insurance.Coverage.by.Age..65.years.and.over..With.two.or.more.types.of.health.insurance.coverage.With.Medicare.and.Medicaid.means.tested.public.coverage  \\\n",
       "0                                               9442                                                                                                                          \n",
       "1                                               9442                                                                                                                          \n",
       "2                                               9442                                                                                                                          \n",
       "3                                               9442                                                                                                                          \n",
       "4                                               9442                                                                                                                          \n",
       "\n",
       "  Types.of.Health.Insurance.Coverage.by.Age..65.years.and.over..With.two.or.more.types.of.health.insurance.coverage.Other.private.only.combinations  \\\n",
       "0                                                  0                                                                                                  \n",
       "1                                                  0                                                                                                  \n",
       "2                                                  0                                                                                                  \n",
       "3                                                  0                                                                                                  \n",
       "4                                                  0                                                                                                  \n",
       "\n",
       "   Types.of.Health.Insurance.Coverage.by.Age..65.years.and.over..With.two.or.more.types.of.health.insurance.coverage.Other.public.only.combinations  \\\n",
       "0                                               1289                                                                                                  \n",
       "1                                               1289                                                                                                  \n",
       "2                                               1289                                                                                                  \n",
       "3                                               1289                                                                                                  \n",
       "4                                               1289                                                                                                  \n",
       "\n",
       "   Types.of.Health.Insurance.Coverage.by.Age..65.years.and.over..With.two.or.more.types.of.health.insurance.coverage.Other.coverage.combinations  \\\n",
       "0                                              18508                                                                                               \n",
       "1                                              18508                                                                                               \n",
       "2                                              18508                                                                                               \n",
       "3                                              18508                                                                                               \n",
       "4                                              18508                                                                                               \n",
       "\n",
       "   Types.of.Health.Insurance.Coverage.by.Age..65.years.and.over..No.health.insurance.coverage  \\\n",
       "0                                                194                                            \n",
       "1                                                194                                            \n",
       "2                                                194                                            \n",
       "3                                                194                                            \n",
       "4                                                194                                            \n",
       "\n",
       "     married   divorced bad_english    poverty  missingSalary  \n",
       "0  42.023943  10.485747    7.930932  16.801532          False  \n",
       "1  42.023943  10.485747    7.930932  16.801532          False  \n",
       "2  42.023943  10.485747    7.930932  16.801532          False  \n",
       "3  42.023943  10.485747    7.930932  16.801532          False  \n",
       "4  42.023943  10.485747    7.930932  16.801532          False  \n",
       "\n",
       "[5 rows x 202 columns]"
      ]
     },
     "execution_count": 31,
     "metadata": {},
     "output_type": "execute_result"
    }
   ],
   "source": [
    "# eliminate rows with missing Y values (NaN)\n",
    "# eliminate rows with missing income/zip data (NaN)\n",
    "sal['missingSalary'] = pd.isnull(sal['salary'])\n",
    "#sal['missingMedian'] = pd.isnull(sal['median'])\n",
    "sal2 = sal[(sal.missingSalary == False)]\n",
    "\n",
    "sal2.head(5)"
   ]
  },
  {
   "cell_type": "code",
   "execution_count": 32,
   "metadata": {
    "collapsed": false
   },
   "outputs": [
    {
     "data": {
      "text/plain": [
       "Unnamed: 0                                                                                                                                                                      1107.377117\n",
       "zip                                                                                                                                                                            56554.658581\n",
       "sup1                                                                                                                                                                               1.445767\n",
       "sup2                                                                                                                                                                               0.774828\n",
       "sup3                                                                                                                                                                               0.633867\n",
       "sup4                                                                                                                                                                              50.119908\n",
       "sup5                                                                                                                                                                               4.008696\n",
       "salary                                                                                                                                                                         48756.163901\n",
       "disabled                                                                                                                                                                           0.012815\n",
       "yearsinposition                                                                                                                                                                    5.724234\n",
       "yearsinprofession                                                                                                                                                                  9.388180\n",
       "age                                                                                                                                                                               38.371021\n",
       "cred1                                                                                                                                                                              0.070023\n",
       "cred2                                                                                                                                                                              0.031579\n",
       "inst1                                                                                                                                                                             16.651259\n",
       "inst2                                                                                                                                                                              6.614645\n",
       "inst3                                                                                                                                                                              3.650801\n",
       "inst4                                                                                                                                                                            336.045767\n",
       "inst5                                                                                                                                                                             40.777574\n",
       "instbudget                                                                                                                                                                   4816937.194651\n",
       "instsize                                                                                                                                                                       25185.625516\n",
       "ZCTA5                                                                                                                                                                          56544.893822\n",
       "cbsa                                                                                                                                                                           28914.279176\n",
       "total_population                                                                                                                                                             1921560.874142\n",
       "Median_Household_Income                                                                                                                                                        53061.228833\n",
       "no_male_hs                                                                                                                                                                        12.025505\n",
       "no_female_hs                                                                                                                                                                      10.908964\n",
       "no_hs                                                                                                                                                                             11.447510\n",
       "at_least_hs_male                                                                                                                                                                  87.974495\n",
       "at_least_hs_female                                                                                                                                                                89.091036\n",
       "                                                                                                                                                                                  ...      \n",
       "Types.of.Health.Insurance.Coverage.by.Age..35.to.64.years..With.two.or.more.types.of.health.insurance.coverage.                                                                55632.356522\n",
       "Types.of.Health.Insurance.Coverage.by.Age..35.to.64.years..With.two.or.more.types.of.health.insurance.coverage..With.employer.based.and.direct.purchase.coverage               16485.954233\n",
       "Types.of.Health.Insurance.Coverage.by.Age..35.to.64.years..With.two.or.more.types.of.health.insurance.coverage..With.employer.based.and.Medicare.coverage                       3466.435698\n",
       "Types.of.Health.Insurance.Coverage.by.Age..35.to.64.years..With.two.or.more.types.of.health.insurance.coverage..With.direct.purchase.and.Medicare.coverage                      1587.188101\n",
       "Types.of.Health.Insurance.Coverage.by.Age..35.to.64.years..With.two.or.more.types.of.health.insurance.coverage..With.Medicare.and.Medicaid.means.tested.public.coverage        10717.030664\n",
       "Types.of.Health.Insurance.Coverage.by.Age..35.to.64.years..With.two.or.more.types.of.health.insurance.coverage..Other.private.only.combinations                                 3534.902517\n",
       "Types.of.Health.Insurance.Coverage.by.Age..35.to.64.years..With.two.or.more.types.of.health.insurance.coverage..Other.public.only.combinations                                  1359.362929\n",
       "Types.of.Health.Insurance.Coverage.by.Age..35.to.64.years..With.two.or.more.types.of.health.insurance.coverage..Other.coverage.combinations                                    18481.482380\n",
       "Types.of.Health.Insurance.Coverage.by.Age..35.to.64.years..No.health.insurance.coverage                                                                                       125772.995881\n",
       "Types.of.Health.Insurance.Coverage.by.Age..65.years.and.over.                                                                                                                 229391.744622\n",
       "Types.of.Health.Insurance.Coverage.by.Age..65.years.and.over..With.one.type.of.health.insurance.coverage.                                                                      67245.982151\n",
       "Types.of.Health.Insurance.Coverage.by.Age..65.years.and.over..With.one.type.of.health.insurance.coverage..With.employer.based.health.insurance.only                             6183.340503\n",
       "Types.of.Health.Insurance.Coverage.by.Age..65.years.and.over..With.one.type.of.health.insurance.coverage..With.direct.purchase.health.insurance.only                             940.746453\n",
       "Types.of.Health.Insurance.Coverage.by.Age..65.years.and.over..With.one.type.of.health.insurance.coverage..With.Medicare.coverage.only                                          59904.102517\n",
       "Types.of.Health.Insurance.Coverage.by.Age..65.years.and.over..With.one.type.of.health.insurance.coverage..With.TRICARE.military.health.coverage.only                              83.191762\n",
       "Types.of.Health.Insurance.Coverage.by.Age..65.years.and.over..With.one.type.of.health.insurance.coverage..With.VA.Health.Care.only                                               134.600915\n",
       "Types.of.Health.Insurance.Coverage.by.Age..65.years.and.over..With.two.or.more.types.of.health.insurance.coverage                                                             158910.180320\n",
       "Types.of.Health.Insurance.Coverage.by.Age..65.years.and.over..With.two.or.more.types.of.health.insurance.coverage.With.employer.based.and.direct.purchase.coverage               250.010984\n",
       "Types.of.Health.Insurance.Coverage.by.Age..65.years.and.over..With.two.or.more.types.of.health.insurance.coverage.With.employer.based.and.Medicare.coverage                    48671.999542\n",
       "Types.of.Health.Insurance.Coverage.by.Age..65.years.and.over..With.two.or.more.types.of.health.insurance.coverage.With.direct.purchase.and.Medicare.coverage                   40023.486041\n",
       "Types.of.Health.Insurance.Coverage.by.Age..65.years.and.over..With.two.or.more.types.of.health.insurance.coverage.With.Medicare.and.Medicaid.means.tested.public.coverage      21967.015103\n",
       "Types.of.Health.Insurance.Coverage.by.Age..65.years.and.over..With.two.or.more.types.of.health.insurance.coverage.Other.private.only.combinations                                 40.718078\n",
       "Types.of.Health.Insurance.Coverage.by.Age..65.years.and.over..With.two.or.more.types.of.health.insurance.coverage.Other.public.only.combinations                                4031.396339\n",
       "Types.of.Health.Insurance.Coverage.by.Age..65.years.and.over..With.two.or.more.types.of.health.insurance.coverage.Other.coverage.combinations                                  43925.554233\n",
       "Types.of.Health.Insurance.Coverage.by.Age..65.years.and.over..No.health.insurance.coverage                                                                                      3235.582151\n",
       "married                                                                                                                                                                           46.552797\n",
       "divorced                                                                                                                                                                          10.680400\n",
       "bad_english                                                                                                                                                                        6.585224\n",
       "poverty                                                                                                                                                                           17.290799\n",
       "missingSalary                                                                                                                                                                      0.000000\n",
       "dtype: float64"
      ]
     },
     "execution_count": 32,
     "metadata": {},
     "output_type": "execute_result"
    }
   ],
   "source": [
    "sal2.mean()"
   ]
  },
  {
   "cell_type": "code",
   "execution_count": 33,
   "metadata": {
    "collapsed": false
   },
   "outputs": [],
   "source": [
    "# eliminate rows with missing Y values (NaN)\n",
    "#sal['missingSalary'] = pd.isnull(sal['salary'])\n",
    "#sal['missingMean'] = pd.isnull(sal['mean'])\n",
    "#sal2 = sal[(sal.missingSalary == False) & (sal.missingMean == False)]\n"
   ]
  },
  {
   "cell_type": "code",
   "execution_count": 34,
   "metadata": {
    "collapsed": false
   },
   "outputs": [],
   "source": [
    "# list of X vars to include\n",
    "X_numeric_features = ['sup1', 'sup2', 'sup3', 'sup4', 'sup5', 'disabled', 'yearsinposition', \n",
    "         'yearsinprofession', 'age', 'cred1', 'cred2', 'inst1', 'inst2', 'inst3', 'inst4', 'inst5', 'instbudget', 'instsize',\n",
    "        'total_population','Median_Household_Income','poverty','at_least_bach','hispanic','white','black','native_american',\n",
    "        'asian_api','male_unemployment','female_unemployment','snap','renter','owner','median_rent','full_time','part_time',\n",
    "        'high_rent_burden','extreme_rent_burden','foreign_born','US_born','adults_same_home','child_same_home']\n",
    "X_numeric = sal2[X_numeric_features]\n",
    "X_categorical_features = ['function', 'gender', 'race', 'highestdegree', 'category', 'insttype','city','state']\n",
    "X_categorical = sal2[X_categorical_features]"
   ]
  },
  {
   "cell_type": "code",
   "execution_count": 35,
   "metadata": {
    "collapsed": false
   },
   "outputs": [],
   "source": [
    "# create dummy variables for each of the categorical features\n",
    "# DOC: http://pandas.pydata.org/pandas-docs/stable/generated/pandas.get_dummies.html\n",
    "\n",
    "Function_dummies = pd.get_dummies(X_categorical['function'])\n",
    "gender_dummies = pd.get_dummies(X_categorical['gender'])\n",
    "race_dummies = pd.get_dummies(X_categorical['race'])\n",
    "highestDegree_dummies = pd.get_dummies(X_categorical['highestdegree'])\n",
    "Category_dummies = pd.get_dummies(X_categorical['category'])\n",
    "instType_dummies = pd.get_dummies(X_categorical['insttype'])\n",
    "\n",
    "X_dummy_features = pd.concat([Function_dummies, gender_dummies, race_dummies, highestDegree_dummies, Category_dummies, instType_dummies], axis=1)\n",
    "\n",
    "# convert to ndarray\n",
    "X_dummy_features = X_dummy_features.as_matrix()"
   ]
  },
  {
   "cell_type": "code",
   "execution_count": 36,
   "metadata": {
    "collapsed": false
   },
   "outputs": [],
   "source": [
    "# impute missing values in numerical features\n",
    "# DOC: http://scikit-learn.org/stable/modules/preprocessing.html\n",
    "# default is imputing the mean\n",
    "from sklearn.preprocessing import Imputer\n",
    "imp = Imputer(strategy=\"most_frequent\")\n",
    "imp.fit(X_numeric)\n",
    "X_numeric_imputed = imp.transform(X_numeric)"
   ]
  },
  {
   "cell_type": "code",
   "execution_count": 37,
   "metadata": {
    "collapsed": false
   },
   "outputs": [],
   "source": [
    "X = np.concatenate((X_dummy_features, X_numeric_imputed), axis=1)"
   ]
  },
  {
   "cell_type": "code",
   "execution_count": 38,
   "metadata": {
    "collapsed": false
   },
   "outputs": [],
   "source": [
    "# y is salary\n",
    "y = sal2.iloc[:, 8].values\n",
    "#y = np.sqrt(y_all)"
   ]
  },
  {
   "cell_type": "code",
   "execution_count": 39,
   "metadata": {
    "collapsed": false
   },
   "outputs": [],
   "source": [
    "# create training and test sets\n",
    "from sklearn.cross_validation import train_test_split\n",
    "\n",
    "X_train, X_test, y_train, y_test = train_test_split(\n",
    "         X, y, test_size=0.3, random_state=0)"
   ]
  },
  {
   "cell_type": "code",
   "execution_count": 40,
   "metadata": {
    "collapsed": true
   },
   "outputs": [],
   "source": [
    "# keep track of variance on test data, to graph\n",
    "var_to_graph = {}\n",
    "# bring residual sum of squares from regression1.ipynb\n",
    "var_to_graph['simpReg'] = 265376883.08\n",
    "# best residual sum of squares from first try Ridge Best \n",
    "var_to_graph['first_RIDGE'] = 97978320.56\n",
    "#best resiudal sum of squares with Ridge alpha of 200\n",
    "var_to_graph['second_RIDGE'] = 93950804.80\n",
    "#best residual sum of squares with Polynomial Lasso alpha of 100\n",
    "var_to_graph['poly_lasso'] = 92771351.24\n",
    "#best residual sum of squares with Lasso alpha of 16\n",
    "# with maximum number of vars.\n",
    "var_to_graph['linear_lasso'] = 90363780.20\n",
    "#final lasso\n",
    "var_to_graph['linear_lasso'] = 90363780.20"
   ]
  },
  {
   "cell_type": "code",
   "execution_count": 41,
   "metadata": {
    "collapsed": true
   },
   "outputs": [],
   "source": [
    "from sklearn import datasets, linear_model\n",
    "# DOC: http://scikit-learn.org/stable/modules/generated/sklearn.linear_model.LinearRegression.html"
   ]
  },
  {
   "cell_type": "code",
   "execution_count": 42,
   "metadata": {
    "collapsed": false
   },
   "outputs": [
    {
     "name": "stdout",
     "output_type": "stream",
     "text": [
      "Intercept: \n",
      " 33390.0498421\n",
      "Coefficients: \n",
      " [  1.10657753e+04   8.65001178e+02  -2.25491663e+03  -1.37891097e+03\n",
      "   1.81269552e+03   4.52643074e+03  -1.51268258e+03  -2.21573760e+03\n",
      "  -0.00000000e+00   0.00000000e+00   1.33051236e+03   2.73261721e+03\n",
      "  -2.69241710e+03  -3.18872664e+03  -0.00000000e+00  -0.00000000e+00\n",
      "  -0.00000000e+00  -4.91135364e+03  -0.00000000e+00  -1.11581199e+03\n",
      "   0.00000000e+00   5.00032525e+03  -5.82138222e+02   8.30595233e+02\n",
      "  -1.24388081e+03   0.00000000e+00  -0.00000000e+00  -2.45616282e+03\n",
      "   0.00000000e+00  -1.39210130e+03  -1.43268015e+03   9.83868804e+02\n",
      "  -0.00000000e+00   1.05080643e+03  -2.04146973e+03   1.90873861e+03\n",
      "   0.00000000e+00  -1.54475079e+03  -0.00000000e+00   1.08491946e+04\n",
      "   4.15217945e+03  -7.16287691e+03   0.00000000e+00  -0.00000000e+00\n",
      "   2.57542320e+03   0.00000000e+00   1.78764363e+03   5.32656934e+02\n",
      "   1.68364498e+01  -3.42927697e+00   2.73488863e+01   1.35200443e+02\n",
      "   7.74836166e+01   3.81208127e+02   1.92149860e+02   3.41755137e+03\n",
      "  -0.00000000e+00   2.14778845e+01  -0.00000000e+00   4.92127611e+01\n",
      "   5.16463076e+00  -1.49812036e+01   4.66424846e-05   7.20090660e-02\n",
      "  -3.90940243e-04   1.92059070e-01  -4.24024033e+02  -1.06650885e+01\n",
      "  -3.72418517e+02  -4.72346702e+02  -5.38151691e+02  -4.88865101e+02\n",
      "  -4.29551492e+02   0.00000000e+00  -5.88795483e+01  -1.11364199e+01\n",
      "   2.22229647e+02  -0.00000000e+00   4.45591253e-01  -2.25771817e+01\n",
      "   0.00000000e+00  -1.60495367e+02   6.00550269e+02   1.23264571e+02\n",
      "  -0.00000000e+00   4.14132849e+00   2.54897026e+02]\n",
      "Mean Squared Error, training data: 80507804\n",
      "Mean Squared Error, test data: 90215343\n",
      "* * * * * * * * * * * * * * * * * * * * * * * * * * * * * * \n",
      "Variance score, training data: 0.75\n",
      "Variance score, test data: 0.76\n",
      "* * * * * * * * * * * * * * * * * * * * * * * * * * * * * * \n",
      "Distribution of prediction error on training data:\n"
     ]
    },
    {
     "data": {
      "image/png": "[encoded data removed]",
      "text/plain": [
       "<matplotlib.figure.Figure at 0x11a851fd0>"
      ]
     },
     "metadata": {},
     "output_type": "display_data"
    },
    {
     "name": "stdout",
     "output_type": "stream",
     "text": [
      "Distribution of prediction error on test data:\n"
     ]
    },
    {
     "data": {
      "image/png": "[encoded data removed]",
      "text/plain": [
       "<matplotlib.figure.Figure at 0x11a648a58>"
      ]
     },
     "metadata": {},
     "output_type": "display_data"
    }
   ],
   "source": [
    "#Lasso Regression\n",
    "from sklearn.cross_validation import train_test_split\n",
    "\n",
    "X_train, X_test, y_train, y_test = train_test_split(\n",
    "         X, y, test_size=0.3, random_state=0)\n",
    "\n",
    "#BEST LASSO ALPHA IS 16\n",
    "regr = linear_model.Lasso(alpha=16, max_iter=30000)\n",
    "#BEST RIDGE IS APHLA=10\n",
    "#regr = linear_model.Ridge(alpha=15, max_iter=30000)\n",
    "\n",
    "# Train the model using the training sets\n",
    "X_train_no_intercept = X_train\n",
    "X_train = X_train.reshape(-1, X_train.shape[1])\n",
    "regr.fit(X_train, y_train)\n",
    "\n",
    "# The intercept\n",
    "print('Intercept: \\n', regr.intercept_)\n",
    "# The coefficients\n",
    "print('Coefficients: \\n', regr.coef_)\n",
    "# The mean square error\n",
    "print(\"Mean Squared Error, training data: %d\"\n",
    "      % np.mean((regr.predict(X_train) - y_train) ** 2))\n",
    "print(\"Mean Squared Error, test data: %d\"\n",
    "      % np.mean((regr.predict(X_test) - y_test) ** 2))\n",
    "print(30 * '* ')\n",
    "\n",
    "# Variance score\n",
    "print('Variance score, training data: %.2f' % regr.score(X_train, y_train))\n",
    "print('Variance score, test data: %.2f' % regr.score(X_test, y_test))\n",
    "print(30 * '* ')\n",
    "var_to_graph['multReg_ridge'] = np.mean((regr.predict(X_test) - y_test) ** 2)\n",
    "#vector of prediction error\n",
    "print('Distribution of prediction error on training data:')\n",
    "predError = regr.predict(X_train) - y_train\n",
    "plt.hist(predError)\n",
    "plt.show()\n",
    "\n",
    "print('Distribution of prediction error on test data:')\n",
    "predError = regr.predict(X_test) - y_test\n",
    "plt.hist(predError)\n",
    "plt.show()"
   ]
  }
 ],
 "metadata": {
  "kernelspec": {
   "display_name": "Python 3",
   "language": "python",
   "name": "python3"
  },
  "language_info": {
   "codemirror_mode": {
    "name": "ipython",
    "version": 3
   },
   "file_extension": ".py",
   "mimetype": "text/x-python",
   "name": "python",
   "nbconvert_exporter": "python",
   "pygments_lexer": "ipython3",
   "version": "3.5.1"
  }
 },
 "nbformat": 4,
 "nbformat_minor": 0
}
